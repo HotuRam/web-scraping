{
 "cells": [
  {
   "cell_type": "code",
   "execution_count": 22,
   "source": [
    "# importing cv2 \r\n",
    "import cv2 \r\n",
    "from matplotlib import pyplot as plt \r\n",
    "  \r\n",
    "# Reading an image in default mode\r\n",
    "image = cv2.imread('selenium3.png')\r\n",
    "  \r\n",
    "# Window name in which image is displayed\r\n",
    "window = 'image'\r\n",
    "\r\n",
    "# Displaying the image \r\n",
    "cv2.imshow(window, image)\r\n",
    "  \r\n",
    "cv2.waitKey(0) \r\n",
    "cv2.destroyAllWindows()    #closing all open windows \r\n"
   ],
   "outputs": [],
   "metadata": {}
  },
  {
   "cell_type": "code",
   "execution_count": 26,
   "source": [
    "from PIL import Image\r\n",
    "image = Image.open('selenium3.png')\r\n",
    "rgb = image.convert('RGB')\r\n",
    "rgb.save('cat1.jpg')\r\n"
   ],
   "outputs": [],
   "metadata": {}
  },
  {
   "cell_type": "code",
   "execution_count": 28,
   "source": [
    "image = cv2.imread('cat1.jpg')\r\n",
    "cv2.imshow(window, image)\r\n",
    "  \r\n",
    "cv2.waitKey(0) \r\n",
    "cv2.destroyAllWindows()  "
   ],
   "outputs": [],
   "metadata": {}
  },
  {
   "cell_type": "code",
   "execution_count": 32,
   "source": [
    "img_HSV = cv2.cvtColor(image, cv2.COLOR_RGB2BGR)\r\n",
    "cv2.imshow(window, img_HSV)\r\n",
    "  \r\n",
    "cv2.waitKey(0) \r\n",
    "cv2.destroyAllWindows()  \r\n"
   ],
   "outputs": [],
   "metadata": {}
  },
  {
   "cell_type": "code",
   "execution_count": 33,
   "source": [
    "# Filename\r\n",
    "filename = 'savedImage.jpg'\r\n",
    "  \r\n",
    "# Using cv2.imwrite() method\r\n",
    "# Saving the image\r\n",
    "cv2.imwrite(filename, img_HSV)"
   ],
   "outputs": [
    {
     "output_type": "execute_result",
     "data": {
      "text/plain": [
       "True"
      ]
     },
     "metadata": {},
     "execution_count": 33
    }
   ],
   "metadata": {}
  },
  {
   "cell_type": "code",
   "execution_count": 35,
   "source": [
    "import img2pdf\r\n",
    "from PIL import Image\r\n",
    "import os\r\n",
    "  \r\n",
    "# storing image path\r\n",
    "img_path = \"savedImage.jpg\"\r\n",
    "  \r\n",
    "# storing pdf path\r\n",
    "pdf_path = \"file.pdf\"\r\n",
    "  \r\n",
    "# opening image\r\n",
    "image = Image.open(img_path)\r\n",
    "  \r\n",
    "# converting into chunks using img2pdf\r\n",
    "pdf_bytes = img2pdf.convert(image.filename)\r\n",
    "  \r\n",
    "# opening or creating pdf file\r\n",
    "file = open(pdf_path, \"wb\")\r\n",
    "  \r\n",
    "# writing pdf files with chunks\r\n",
    "file.write(pdf_bytes)\r\n",
    "  \r\n",
    "# closing image file\r\n",
    "image.close()\r\n",
    "  \r\n",
    "# closing pdf file\r\n",
    "file.close()\r\n",
    "  \r\n",
    "# output\r\n",
    "print(\"Successfully made pdf file\")"
   ],
   "outputs": [
    {
     "output_type": "stream",
     "name": "stdout",
     "text": [
      "Successfully made pdf file\n"
     ]
    }
   ],
   "metadata": {}
  },
  {
   "cell_type": "code",
   "execution_count": 37,
   "source": [
    "!pip install fitz"
   ],
   "outputs": [
    {
     "output_type": "stream",
     "name": "stdout",
     "text": [
      "Requirement already satisfied: fitz in c:\\users\\my-pc\\anaconda3\\envs\\webscraping\\lib\\site-packages (0.0.1.dev2)\n",
      "Requirement already satisfied: numpy in c:\\users\\my-pc\\anaconda3\\envs\\webscraping\\lib\\site-packages (from fitz) (1.21.2)\n",
      "Requirement already satisfied: configobj in c:\\users\\my-pc\\anaconda3\\envs\\webscraping\\lib\\site-packages (from fitz) (5.0.6)\n",
      "Requirement already satisfied: nibabel in c:\\users\\my-pc\\anaconda3\\envs\\webscraping\\lib\\site-packages (from fitz) (3.2.1)\n",
      "Requirement already satisfied: httplib2 in c:\\users\\my-pc\\anaconda3\\envs\\webscraping\\lib\\site-packages (from fitz) (0.19.1)\n",
      "Requirement already satisfied: configparser in c:\\users\\my-pc\\anaconda3\\envs\\webscraping\\lib\\site-packages (from fitz) (5.0.2)\n",
      "Requirement already satisfied: nipype in c:\\users\\my-pc\\anaconda3\\envs\\webscraping\\lib\\site-packages (from fitz) (1.6.1)\n",
      "Requirement already satisfied: pyxnat in c:\\users\\my-pc\\anaconda3\\envs\\webscraping\\lib\\site-packages (from fitz) (1.4)\n",
      "Requirement already satisfied: scipy in c:\\users\\my-pc\\anaconda3\\envs\\webscraping\\lib\\site-packages (from fitz) (1.7.1)\n",
      "Requirement already satisfied: pandas in c:\\users\\my-pc\\anaconda3\\envs\\webscraping\\lib\\site-packages (from fitz) (1.3.3)\n",
      "Requirement already satisfied: six in c:\\users\\my-pc\\anaconda3\\envs\\webscraping\\lib\\site-packages (from configobj->fitz) (1.16.0)\n",
      "Requirement already satisfied: pyparsing<3,>=2.4.2 in c:\\users\\my-pc\\anaconda3\\envs\\webscraping\\lib\\site-packages (from httplib2->fitz) (2.4.7)\n",
      "Requirement already satisfied: packaging>=14.3 in c:\\users\\my-pc\\anaconda3\\envs\\webscraping\\lib\\site-packages (from nibabel->fitz) (21.0)\n",
      "Requirement already satisfied: click>=6.6.0 in c:\\users\\my-pc\\anaconda3\\envs\\webscraping\\lib\\site-packages (from nipype->fitz) (8.0.1)\n",
      "Requirement already satisfied: traits!=5.0,>=4.6 in c:\\users\\my-pc\\anaconda3\\envs\\webscraping\\lib\\site-packages (from nipype->fitz) (6.2.0)\n",
      "Requirement already satisfied: python-dateutil>=2.2 in c:\\users\\my-pc\\anaconda3\\envs\\webscraping\\lib\\site-packages (from nipype->fitz) (2.8.2)\n",
      "Requirement already satisfied: pydot>=1.2.3 in c:\\users\\my-pc\\anaconda3\\envs\\webscraping\\lib\\site-packages (from nipype->fitz) (1.4.2)\n",
      "Requirement already satisfied: simplejson>=3.8.0 in c:\\users\\my-pc\\anaconda3\\envs\\webscraping\\lib\\site-packages (from nipype->fitz) (3.17.5)\n",
      "Requirement already satisfied: prov>=1.5.2 in c:\\users\\my-pc\\anaconda3\\envs\\webscraping\\lib\\site-packages (from nipype->fitz) (2.0.0)\n",
      "Requirement already satisfied: rdflib>=5.0.0 in c:\\users\\my-pc\\anaconda3\\envs\\webscraping\\lib\\site-packages (from nipype->fitz) (6.0.1)\n",
      "Requirement already satisfied: etelemetry>=0.2.0 in c:\\users\\my-pc\\anaconda3\\envs\\webscraping\\lib\\site-packages (from nipype->fitz) (0.2.2)\n",
      "Requirement already satisfied: networkx>=2.0 in c:\\users\\my-pc\\anaconda3\\envs\\webscraping\\lib\\site-packages (from nipype->fitz) (2.6.3)\n",
      "Requirement already satisfied: filelock>=3.0.0 in c:\\users\\my-pc\\anaconda3\\envs\\webscraping\\lib\\site-packages (from nipype->fitz) (3.0.12)\n",
      "Requirement already satisfied: importlib-metadata in c:\\users\\my-pc\\anaconda3\\envs\\webscraping\\lib\\site-packages (from click>=6.6.0->nipype->fitz) (4.8.1)\n",
      "Requirement already satisfied: colorama in c:\\users\\my-pc\\anaconda3\\envs\\webscraping\\lib\\site-packages (from click>=6.6.0->nipype->fitz) (0.4.4)\n",
      "Requirement already satisfied: requests in c:\\users\\my-pc\\anaconda3\\envs\\webscraping\\lib\\site-packages (from etelemetry>=0.2.0->nipype->fitz) (2.26.0)\n",
      "Requirement already satisfied: ci-info>=0.2 in c:\\users\\my-pc\\anaconda3\\envs\\webscraping\\lib\\site-packages (from etelemetry>=0.2.0->nipype->fitz) (0.2.0)\n",
      "Requirement already satisfied: lxml>=3.3.5 in c:\\users\\my-pc\\anaconda3\\envs\\webscraping\\lib\\site-packages (from prov>=1.5.2->nipype->fitz) (4.6.3)\n",
      "Requirement already satisfied: setuptools in c:\\users\\my-pc\\anaconda3\\envs\\webscraping\\lib\\site-packages (from rdflib>=5.0.0->nipype->fitz) (52.0.0.post20210125)\n",
      "Requirement already satisfied: isodate in c:\\users\\my-pc\\anaconda3\\envs\\webscraping\\lib\\site-packages (from rdflib>=5.0.0->nipype->fitz) (0.6.0)\n",
      "Requirement already satisfied: typing-extensions>=3.6.4 in c:\\users\\my-pc\\anaconda3\\envs\\webscraping\\lib\\site-packages (from importlib-metadata->click>=6.6.0->nipype->fitz) (3.10.0.2)\n",
      "Requirement already satisfied: zipp>=0.5 in c:\\users\\my-pc\\anaconda3\\envs\\webscraping\\lib\\site-packages (from importlib-metadata->click>=6.6.0->nipype->fitz) (3.5.0)\n",
      "Requirement already satisfied: pytz>=2017.3 in c:\\users\\my-pc\\anaconda3\\envs\\webscraping\\lib\\site-packages (from pandas->fitz) (2021.1)\n",
      "Requirement already satisfied: future>=0.16 in c:\\users\\my-pc\\anaconda3\\envs\\webscraping\\lib\\site-packages (from pyxnat->fitz) (0.18.2)\n",
      "Requirement already satisfied: pathlib>=1.0 in c:\\users\\my-pc\\anaconda3\\envs\\webscraping\\lib\\site-packages (from pyxnat->fitz) (1.0.1)\n",
      "Requirement already satisfied: urllib3<1.27,>=1.21.1 in c:\\users\\my-pc\\anaconda3\\envs\\webscraping\\lib\\site-packages (from requests->etelemetry>=0.2.0->nipype->fitz) (1.26.6)\n",
      "Requirement already satisfied: certifi>=2017.4.17 in c:\\users\\my-pc\\anaconda3\\envs\\webscraping\\lib\\site-packages (from requests->etelemetry>=0.2.0->nipype->fitz) (2021.5.30)\n",
      "Requirement already satisfied: idna<4,>=2.5 in c:\\users\\my-pc\\anaconda3\\envs\\webscraping\\lib\\site-packages (from requests->etelemetry>=0.2.0->nipype->fitz) (3.2)\n",
      "Requirement already satisfied: charset-normalizer~=2.0.0 in c:\\users\\my-pc\\anaconda3\\envs\\webscraping\\lib\\site-packages (from requests->etelemetry>=0.2.0->nipype->fitz) (2.0.5)\n"
     ]
    }
   ],
   "metadata": {}
  },
  {
   "cell_type": "code",
   "execution_count": 39,
   "source": [
    "!pip install PyMuPDF"
   ],
   "outputs": [
    {
     "output_type": "stream",
     "name": "stdout",
     "text": [
      "Collecting PyMuPDF\n",
      "  Downloading PyMuPDF-1.18.19-cp37-cp37m-win_amd64.whl (5.4 MB)\n",
      "Installing collected packages: PyMuPDF\n",
      "Successfully installed PyMuPDF-1.18.19\n"
     ]
    }
   ],
   "metadata": {}
  },
  {
   "cell_type": "code",
   "execution_count": 48,
   "source": [
    "# extract image from pdf\r\n",
    "#!pip install fitz and PyMuPDF\r\n",
    "\r\n",
    "import fitz\r\n",
    "\r\n",
    "file =  'file77.pdf'\r\n",
    "\r\n",
    "pdf = fitz.open(file)\r\n",
    "image_list = pdf.getPageImageList(0)\r\n",
    "for image in image_list:\r\n",
    "    xref = image[0]\r\n",
    "    pix =  fitz.Pixmap(pdf, xref)\r\n",
    "    if pix.n<5:\r\n",
    "        pix.writePNG(f'{xref}.png')\r\n",
    "    else:\r\n",
    "        pix1 = fitz.open(fitz.csRGB, pix)\r\n",
    "        pix1.writePNG(f'{xref}.png')\r\n",
    "        pix1 = None\r\n",
    "    pix = None\r\n",
    "\r\n",
    "print(len(image_list), 'detected')\r\n",
    "\r\n",
    "\r\n"
   ],
   "outputs": [
    {
     "output_type": "stream",
     "name": "stdout",
     "text": [
      "11 detected\n"
     ]
    }
   ],
   "metadata": {}
  },
  {
   "cell_type": "code",
   "execution_count": null,
   "source": [],
   "outputs": [],
   "metadata": {}
  },
  {
   "cell_type": "code",
   "execution_count": null,
   "source": [],
   "outputs": [],
   "metadata": {}
  }
 ],
 "metadata": {
  "orig_nbformat": 4,
  "language_info": {
   "name": "python",
   "version": "3.7.11",
   "mimetype": "text/x-python",
   "codemirror_mode": {
    "name": "ipython",
    "version": 3
   },
   "pygments_lexer": "ipython3",
   "nbconvert_exporter": "python",
   "file_extension": ".py"
  },
  "kernelspec": {
   "name": "python3",
   "display_name": "Python 3.7.11 64-bit ('webscraping': conda)"
  },
  "interpreter": {
   "hash": "7cccc95c04ff0bfb4d59500f2dcd505d1d7d3049ccad7e9f8b3a694b435cb40d"
  }
 },
 "nbformat": 4,
 "nbformat_minor": 2
}