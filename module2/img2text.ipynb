{
 "cells": [
  {
   "cell_type": "code",
   "execution_count": 9,
   "source": [
    "# !pip install easyocr"
   ],
   "outputs": [],
   "metadata": {}
  },
  {
   "cell_type": "code",
   "execution_count": 10,
   "source": [
    "# selecting text by using easyOCR\r\n",
    "import easyocr\r\n",
    "import cv2\r\n",
    "\r\n"
   ],
   "outputs": [],
   "metadata": {}
  },
  {
   "cell_type": "code",
   "execution_count": 11,
   "source": [
    "path = r'C:\\Users\\my-pc\\Desktop\\anaconda\\hotu_data_scientist_resume\\AdEase -ML-Task\\web_page_scraping\\images2\\13.png'\r\n",
    "\r\n",
    "## please give absolute path (reminder)\r\n",
    "\r\n",
    "image = cv2.imread(path)\r\n",
    "  \r\n",
    "# Window name in which image is displayed\r\n",
    "window_name = 'image'\r\n",
    "  \r\n",
    "# Using cv2.imshow() method \r\n",
    "# Displaying the image \r\n",
    "cv2.imshow(window_name, image)\r\n",
    "  \r\n",
    "#waits for user to press any key \r\n",
    "#(this is necessary to avoid Python kernel form crashing)\r\n",
    "cv2.waitKey(0) \r\n",
    "  \r\n",
    "#closing all open windows \r\n",
    "cv2.destroyAllWindows() \r\n"
   ],
   "outputs": [],
   "metadata": {}
  },
  {
   "cell_type": "code",
   "execution_count": 12,
   "source": [
    "reader  = easyocr.Reader(['en'])"
   ],
   "outputs": [
    {
     "output_type": "stream",
     "name": "stderr",
     "text": [
      "CUDA not available - defaulting to CPU. Note: This module is much faster with a GPU.\n"
     ]
    }
   ],
   "metadata": {}
  },
  {
   "cell_type": "code",
   "execution_count": 14,
   "source": [
    "output = reader.readtext(path)"
   ],
   "outputs": [],
   "metadata": {}
  },
  {
   "cell_type": "code",
   "execution_count": 15,
   "source": [
    "output"
   ],
   "outputs": [
    {
     "output_type": "execute_result",
     "data": {
      "text/plain": [
       "[([[208, 24], [242, 24], [242, 32], [208, 32]],\n",
       "  'Lte Beario',\n",
       "  0.01626951241424323),\n",
       " ([[12, 24], [110, 24], [110, 48], [12, 48]], 'Restream', 0.9999673781188508),\n",
       " ([[13, 85], [33, 85], [33, 107], [13, 107]], '#', 0.9194479628153803),\n",
       " ([[44, 84], [102, 84], [102, 112], [44, 112]], 'Live', 0.9276657946271036),\n",
       " ([[10, 105], [149, 105], [149, 143], [10, 143]],\n",
       "  'Streaming',\n",
       "  0.9999232089122541),\n",
       " ([[12, 138], [102, 138], [102, 168], [12, 168]],\n",
       "  'Studio',\n",
       "  0.6382338739280617),\n",
       " ([[220, 146], [258, 146], [258, 154], [220, 154]],\n",
       "  'LRan',\n",
       "  0.2173454910516739),\n",
       " ([[29, 209], [133, 209], [133, 227], [29, 227]],\n",
       "  'TRY For FREE',\n",
       "  0.4134370574330919)]"
      ]
     },
     "metadata": {},
     "execution_count": 15
    }
   ],
   "metadata": {}
  },
  {
   "cell_type": "code",
   "execution_count": 16,
   "source": [
    "print(output)"
   ],
   "outputs": [
    {
     "output_type": "stream",
     "name": "stdout",
     "text": [
      "[([[208, 24], [242, 24], [242, 32], [208, 32]], 'Lte Beario', 0.01626951241424323), ([[12, 24], [110, 24], [110, 48], [12, 48]], 'Restream', 0.9999673781188508), ([[13, 85], [33, 85], [33, 107], [13, 107]], '#', 0.9194479628153803), ([[44, 84], [102, 84], [102, 112], [44, 112]], 'Live', 0.9276657946271036), ([[10, 105], [149, 105], [149, 143], [10, 143]], 'Streaming', 0.9999232089122541), ([[12, 138], [102, 138], [102, 168], [12, 168]], 'Studio', 0.6382338739280617), ([[220, 146], [258, 146], [258, 154], [220, 154]], 'LRan', 0.2173454910516739), ([[29, 209], [133, 209], [133, 227], [29, 227]], 'TRY For FREE', 0.4134370574330919)]\n"
     ]
    }
   ],
   "metadata": {}
  },
  {
   "cell_type": "code",
   "execution_count": null,
   "source": [],
   "outputs": [],
   "metadata": {}
  }
 ],
 "metadata": {
  "orig_nbformat": 4,
  "language_info": {
   "name": "python",
   "version": "3.7.11",
   "mimetype": "text/x-python",
   "codemirror_mode": {
    "name": "ipython",
    "version": 3
   },
   "pygments_lexer": "ipython3",
   "nbconvert_exporter": "python",
   "file_extension": ".py"
  },
  "kernelspec": {
   "name": "python3",
   "display_name": "Python 3.7.11 64-bit ('webscraping': conda)"
  },
  "interpreter": {
   "hash": "7cccc95c04ff0bfb4d59500f2dcd505d1d7d3049ccad7e9f8b3a694b435cb40d"
  }
 },
 "nbformat": 4,
 "nbformat_minor": 2
}