{
 "cells": [
  {
   "cell_type": "code",
   "execution_count": 1,
   "source": [
    "# !pip install easyocr"
   ],
   "outputs": [],
   "metadata": {}
  },
  {
   "cell_type": "code",
   "execution_count": 4,
   "source": [
    "# selecting text by using easyOCR\r\n",
    "import easyocr\r\n",
    "import cv2\r\n",
    "\r\n"
   ],
   "outputs": [],
   "metadata": {}
  },
  {
   "cell_type": "code",
   "execution_count": 5,
   "source": [
    "path = r'C:\\Users\\my-pc\\Desktop\\anaconda\\hotu_data_scientist_resume\\AdEase -ML-Task\\web_page_scraping\\13.png'\r\n",
    "                  ## please give absolute path of image in vs code \r\n",
    "image = cv2.imread(path)"
   ],
   "outputs": [],
   "metadata": {}
  },
  {
   "cell_type": "code",
   "execution_count": 6,
   "source": [
    "reader  = easyocr.Reader(['en'])"
   ],
   "outputs": [
    {
     "output_type": "stream",
     "name": "stderr",
     "text": [
      "CUDA not available - defaulting to CPU. Note: This module is much faster with a GPU.\n"
     ]
    }
   ],
   "metadata": {}
  },
  {
   "cell_type": "code",
   "execution_count": 7,
   "source": [
    "output = reader.readtext(r'C:\\Users\\my-pc\\Desktop\\anaconda\\hotu_data_scientist_resume\\AdEase -ML-Task\\web_page_scraping\\13.png')"
   ],
   "outputs": [
    {
     "output_type": "stream",
     "name": "stderr",
     "text": [
      "C:\\Users\\my-pc\\anaconda3\\envs\\webscraping\\lib\\site-packages\\torch\\nn\\functional.py:718: UserWarning: Named tensors and all their associated APIs are an experimental feature and subject to change. Please do not use them for anything important until they are released as stable. (Triggered internally at  ..\\c10/core/TensorImpl.h:1156.)\n",
      "  return torch.max_pool2d(input, kernel_size, stride, padding, dilation, ceil_mode)\n"
     ]
    }
   ],
   "metadata": {}
  },
  {
   "cell_type": "code",
   "execution_count": 8,
   "source": [
    "output"
   ],
   "outputs": [
    {
     "output_type": "execute_result",
     "data": {
      "text/plain": [
       "[([[80, 78], [306, 78], [306, 104], [80, 104]],\n",
       "  'Adobe Crcative Cloud',\n",
       "  0.9445804079197888),\n",
       " ([[78, 114], [366, 114], [366, 166], [78, 166]],\n",
       "  'Take your ideas',\n",
       "  0.8533317034704903),\n",
       " ([[76, 162], [342, 162], [342, 212], [76, 212]],\n",
       "  'to new places:',\n",
       "  0.8720481061356059),\n",
       " ([[110, 258], [200, 258], [200, 282], [110, 282]],\n",
       "  'Join now',\n",
       "  0.6921178524128674),\n",
       " ([[78, 464], [146, 464], [146, 494], [78, 494]], 'Adobe', 0.990630549330044)]"
      ]
     },
     "metadata": {},
     "execution_count": 8
    }
   ],
   "metadata": {}
  },
  {
   "cell_type": "code",
   "execution_count": null,
   "source": [
    "print(output)"
   ],
   "outputs": [
    {
     "output_type": "stream",
     "name": "stdout",
     "text": [
      "[([[80, 78], [306, 78], [306, 104], [80, 104]], 'Adobe Crcative Cloud', 0.9445804079197888), ([[78, 114], [366, 114], [366, 166], [78, 166]], 'Take your ideas', 0.8533317034704903), ([[76, 162], [342, 162], [342, 212], [76, 212]], 'to new places:', 0.8720481061356059), ([[110, 258], [200, 258], [200, 282], [110, 282]], 'Join now', 0.6921178524128674), ([[78, 464], [146, 464], [146, 494], [78, 494]], 'Adobe', 0.990630549330044)]\n"
     ]
    }
   ],
   "metadata": {}
  },
  {
   "cell_type": "code",
   "execution_count": null,
   "source": [],
   "outputs": [],
   "metadata": {}
  }
 ],
 "metadata": {
  "orig_nbformat": 4,
  "language_info": {
   "name": "python",
   "version": "3.7.11",
   "mimetype": "text/x-python",
   "codemirror_mode": {
    "name": "ipython",
    "version": 3
   },
   "pygments_lexer": "ipython3",
   "nbconvert_exporter": "python",
   "file_extension": ".py"
  },
  "kernelspec": {
   "name": "python3",
   "display_name": "Python 3.7.11 64-bit ('webscraping': conda)"
  },
  "interpreter": {
   "hash": "7cccc95c04ff0bfb4d59500f2dcd505d1d7d3049ccad7e9f8b3a694b435cb40d"
  }
 },
 "nbformat": 4,
 "nbformat_minor": 2
}