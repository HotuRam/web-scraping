{
 "cells": [
  {
   "cell_type": "code",
   "execution_count": null,
   "source": [
    "# !pip install easyocr"
   ],
   "outputs": [
    {
     "output_type": "error",
     "ename": "Error",
     "evalue": "Session cannot generate requests",
     "traceback": [
      "Error: Session cannot generate requests",
      "at w.executeCodeCell (c:\\Users\\my-pc\\.vscode\\extensions\\ms-toolsai.jupyter-2021.8.2041215044\\out\\client\\extension.js:52:301310)",
      "at w.execute (c:\\Users\\my-pc\\.vscode\\extensions\\ms-toolsai.jupyter-2021.8.2041215044\\out\\client\\extension.js:52:300703)",
      "at w.start (c:\\Users\\my-pc\\.vscode\\extensions\\ms-toolsai.jupyter-2021.8.2041215044\\out\\client\\extension.js:52:296367)",
      "at runMicrotasks (<anonymous>)",
      "at processTicksAndRejections (internal/process/task_queues.js:93:5)",
      "at async t.CellExecutionQueue.executeQueuedCells (c:\\Users\\my-pc\\.vscode\\extensions\\ms-toolsai.jupyter-2021.8.2041215044\\out\\client\\extension.js:52:311160)",
      "at async t.CellExecutionQueue.start (c:\\Users\\my-pc\\.vscode\\extensions\\ms-toolsai.jupyter-2021.8.2041215044\\out\\client\\extension.js:52:310700)"
     ]
    }
   ],
   "metadata": {}
  },
  {
   "cell_type": "code",
   "execution_count": null,
   "source": [
    "# selecting text by using easyOCR\r\n",
    "import easyocr\r\n",
    "import cv2\r\n"
   ],
   "outputs": [
    {
     "output_type": "error",
     "ename": "Error",
     "evalue": "Session cannot generate requests",
     "traceback": [
      "Error: Session cannot generate requests",
      "at w.executeCodeCell (c:\\Users\\my-pc\\.vscode\\extensions\\ms-toolsai.jupyter-2021.8.2041215044\\out\\client\\extension.js:52:301310)",
      "at w.execute (c:\\Users\\my-pc\\.vscode\\extensions\\ms-toolsai.jupyter-2021.8.2041215044\\out\\client\\extension.js:52:300703)",
      "at w.start (c:\\Users\\my-pc\\.vscode\\extensions\\ms-toolsai.jupyter-2021.8.2041215044\\out\\client\\extension.js:52:296367)",
      "at runMicrotasks (<anonymous>)",
      "at processTicksAndRejections (internal/process/task_queues.js:93:5)",
      "at async t.CellExecutionQueue.executeQueuedCells (c:\\Users\\my-pc\\.vscode\\extensions\\ms-toolsai.jupyter-2021.8.2041215044\\out\\client\\extension.js:52:311160)",
      "at async t.CellExecutionQueue.start (c:\\Users\\my-pc\\.vscode\\extensions\\ms-toolsai.jupyter-2021.8.2041215044\\out\\client\\extension.js:52:310700)"
     ]
    }
   ],
   "metadata": {}
  },
  {
   "cell_type": "code",
   "execution_count": null,
   "source": [
    "path = r'..\\web_page_scraping\\13.png'\r\n",
    "image = cv2.imread(path)\r\n",
    "window_name = 'image'\r\n",
    "cv2.imshow('image',image)\r\n",
    "cv2.waitKey(0)                            #(this is necessary to avoid Python kernel form crashing)\r\n",
    "cv2.destroyAllWindows()   "
   ],
   "outputs": [
    {
     "output_type": "error",
     "ename": "error",
     "evalue": "OpenCV(4.5.3) C:\\Users\\runneradmin\\AppData\\Local\\Temp\\pip-req-build-_xlv4eex\\opencv\\modules\\imgproc\\src\\color.cpp:182: error: (-215:Assertion failed) !_src.empty() in function 'cv::cvtColor'\n",
     "traceback": [
      "\u001b[1;31m---------------------------------------------------------------------------\u001b[0m",
      "\u001b[1;31merror\u001b[0m                                     Traceback (most recent call last)",
      "\u001b[1;32m~\\AppData\\Local\\Temp/ipykernel_15472/324329224.py\u001b[0m in \u001b[0;36m<module>\u001b[1;34m\u001b[0m\n\u001b[0;32m      2\u001b[0m \u001b[0mimage\u001b[0m \u001b[1;33m=\u001b[0m \u001b[0mcv2\u001b[0m\u001b[1;33m.\u001b[0m\u001b[0mimread\u001b[0m\u001b[1;33m(\u001b[0m\u001b[0mpath\u001b[0m\u001b[1;33m)\u001b[0m\u001b[1;33m\u001b[0m\u001b[1;33m\u001b[0m\u001b[0m\n\u001b[0;32m      3\u001b[0m \u001b[0mwindow_name\u001b[0m \u001b[1;33m=\u001b[0m \u001b[1;34m'image'\u001b[0m\u001b[1;33m\u001b[0m\u001b[1;33m\u001b[0m\u001b[0m\n\u001b[1;32m----> 4\u001b[1;33m \u001b[0mcv2\u001b[0m\u001b[1;33m.\u001b[0m\u001b[0mimshow\u001b[0m\u001b[1;33m(\u001b[0m\u001b[1;34m'image'\u001b[0m\u001b[1;33m,\u001b[0m\u001b[0mimage\u001b[0m\u001b[1;33m)\u001b[0m\u001b[1;33m\u001b[0m\u001b[1;33m\u001b[0m\u001b[0m\n\u001b[0m\u001b[0;32m      5\u001b[0m \u001b[0mcv2\u001b[0m\u001b[1;33m.\u001b[0m\u001b[0mwaitKey\u001b[0m\u001b[1;33m(\u001b[0m\u001b[1;36m0\u001b[0m\u001b[1;33m)\u001b[0m                            \u001b[1;31m#(this is necessary to avoid Python kernel form crashing)\u001b[0m\u001b[1;33m\u001b[0m\u001b[1;33m\u001b[0m\u001b[0m\n\u001b[0;32m      6\u001b[0m \u001b[0mcv2\u001b[0m\u001b[1;33m.\u001b[0m\u001b[0mdestroyAllWindows\u001b[0m\u001b[1;33m(\u001b[0m\u001b[1;33m)\u001b[0m\u001b[1;33m\u001b[0m\u001b[1;33m\u001b[0m\u001b[0m\n",
      "\u001b[1;31merror\u001b[0m: OpenCV(4.5.3) C:\\Users\\runneradmin\\AppData\\Local\\Temp\\pip-req-build-_xlv4eex\\opencv\\modules\\imgproc\\src\\color.cpp:182: error: (-215:Assertion failed) !_src.empty() in function 'cv::cvtColor'\n"
     ]
    }
   ],
   "metadata": {}
  },
  {
   "cell_type": "code",
   "execution_count": null,
   "source": [
    "reader  = easyocr.Reader(['en'])"
   ],
   "outputs": [
    {
     "output_type": "stream",
     "name": "stderr",
     "text": [
      "CUDA not available - defaulting to CPU. Note: This module is much faster with a GPU.\n"
     ]
    }
   ],
   "metadata": {}
  },
  {
   "cell_type": "code",
   "execution_count": null,
   "source": [
    "output = reader.readtext(r'C:\\Users\\my-pc\\Desktop\\anaconda\\hotu_data_scientist_resume\\AdEase -ML-Task\\web_page_scraping\\13.png')"
   ],
   "outputs": [],
   "metadata": {}
  },
  {
   "cell_type": "code",
   "execution_count": null,
   "source": [
    "output"
   ],
   "outputs": [
    {
     "output_type": "execute_result",
     "data": {
      "text/plain": [
       "[([[80, 78], [306, 78], [306, 104], [80, 104]],\n",
       "  'Adobe Crcative Cloud',\n",
       "  0.9445804079197888),\n",
       " ([[78, 114], [366, 114], [366, 166], [78, 166]],\n",
       "  'Take your ideas',\n",
       "  0.8533317034704903),\n",
       " ([[76, 162], [342, 162], [342, 212], [76, 212]],\n",
       "  'to new places:',\n",
       "  0.8720481061356059),\n",
       " ([[110, 258], [200, 258], [200, 282], [110, 282]],\n",
       "  'Join now',\n",
       "  0.6921178524128674),\n",
       " ([[78, 464], [146, 464], [146, 494], [78, 494]], 'Adobe', 0.990630549330044)]"
      ]
     },
     "metadata": {},
     "execution_count": 15
    }
   ],
   "metadata": {}
  },
  {
   "cell_type": "code",
   "execution_count": null,
   "source": [
    "print(output)"
   ],
   "outputs": [
    {
     "output_type": "stream",
     "name": "stdout",
     "text": [
      "[([[80, 78], [306, 78], [306, 104], [80, 104]], 'Adobe Crcative Cloud', 0.9445804079197888), ([[78, 114], [366, 114], [366, 166], [78, 166]], 'Take your ideas', 0.8533317034704903), ([[76, 162], [342, 162], [342, 212], [76, 212]], 'to new places:', 0.8720481061356059), ([[110, 258], [200, 258], [200, 282], [110, 282]], 'Join now', 0.6921178524128674), ([[78, 464], [146, 464], [146, 494], [78, 494]], 'Adobe', 0.990630549330044)]\n"
     ]
    }
   ],
   "metadata": {}
  },
  {
   "cell_type": "code",
   "execution_count": null,
   "source": [],
   "outputs": [],
   "metadata": {}
  }
 ],
 "metadata": {
  "orig_nbformat": 4,
  "language_info": {
   "name": "python",
   "version": "3.7.11",
   "mimetype": "text/x-python",
   "codemirror_mode": {
    "name": "ipython",
    "version": 3
   },
   "pygments_lexer": "ipython3",
   "nbconvert_exporter": "python",
   "file_extension": ".py"
  },
  "kernelspec": {
   "name": "python3",
   "display_name": "Python 3.7.11 64-bit ('webscraping': conda)"
  },
  "interpreter": {
   "hash": "7cccc95c04ff0bfb4d59500f2dcd505d1d7d3049ccad7e9f8b3a694b435cb40d"
  }
 },
 "nbformat": 4,
 "nbformat_minor": 2
}