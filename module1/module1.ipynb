{
 "cells": [
  {
   "cell_type": "code",
   "execution_count": null,
   "source": [
    "!pip install PyMuPDF"
   ],
   "outputs": [],
   "metadata": {}
  },
  {
   "cell_type": "code",
   "execution_count": null,
   "source": [
    "# extract images from pdf\r\n",
    "#!pip install fitz and PyMuPDF\r\n",
    "\r\n",
    "import fitz\r\n",
    "\r\n",
    "file =  r'C:\\Users\\my-pc\\Pictures\\webpage_scraping\\sample_2.pdf'  ###please provide absolute path ####\r\n",
    "\r\n",
    "pdf = fitz.open(file)\r\n",
    "image_list = pdf.getPageImageList(0)\r\n",
    "for image in image_list:\r\n",
    "    xref = image[0]\r\n",
    "    pix =  fitz.Pixmap(pdf, xref)\r\n",
    "    if pix.n<5:\r\n",
    "        pix.writePNG(f'{xref}.png')\r\n",
    "    else:\r\n",
    "        pix1 = fitz.open(fitz.csRGB, pix)\r\n",
    "        pix1.writePNG(f'{xref}.png')\r\n",
    "        pix1 = None\r\n",
    "    pix = None\r\n",
    "\r\n",
    "print(len(image_list), 'detected')\r\n",
    "\r\n",
    "\r\n"
   ],
   "outputs": [],
   "metadata": {}
  }
 ],
 "metadata": {
  "orig_nbformat": 4,
  "language_info": {
   "name": "python",
   "version": "3.7.11",
   "mimetype": "text/x-python",
   "codemirror_mode": {
    "name": "ipython",
    "version": 3
   },
   "pygments_lexer": "ipython3",
   "nbconvert_exporter": "python",
   "file_extension": ".py"
  },
  "kernelspec": {
   "name": "python3",
   "display_name": "Python 3.7.11 64-bit ('image_scraping_new': conda)"
  },
  "interpreter": {
   "hash": "b367ecabc0bc40cfaea97e60b6b15ab0673393dd9ef9a4e1297d0595e8c8f10a"
  }
 },
 "nbformat": 4,
 "nbformat_minor": 2
}