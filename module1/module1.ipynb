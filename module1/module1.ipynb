{
 "cells": [
  {
   "cell_type": "code",
   "execution_count": 1,
   "source": [
    "!pip install PyMuPDF\r\n",
    "!pip install fitz"
   ],
   "outputs": [
    {
     "output_type": "stream",
     "name": "stdout",
     "text": [
      "Requirement already satisfied: PyMuPDF in c:\\users\\my-pc\\anaconda3\\envs\\webscraping\\lib\\site-packages (1.18.19)\n",
      "Requirement already satisfied: fitz in c:\\users\\my-pc\\anaconda3\\envs\\webscraping\\lib\\site-packages (0.0.1.dev2)\n",
      "Requirement already satisfied: pandas in c:\\users\\my-pc\\anaconda3\\envs\\webscraping\\lib\\site-packages (from fitz) (1.3.3)\n",
      "Requirement already satisfied: numpy in c:\\users\\my-pc\\anaconda3\\envs\\webscraping\\lib\\site-packages (from fitz) (1.21.2)\n",
      "Requirement already satisfied: pyxnat in c:\\users\\my-pc\\anaconda3\\envs\\webscraping\\lib\\site-packages (from fitz) (1.4)\n",
      "Requirement already satisfied: nipype in c:\\users\\my-pc\\anaconda3\\envs\\webscraping\\lib\\site-packages (from fitz) (1.6.1)\n",
      "Requirement already satisfied: configparser in c:\\users\\my-pc\\anaconda3\\envs\\webscraping\\lib\\site-packages (from fitz) (5.0.2)\n",
      "Requirement already satisfied: scipy in c:\\users\\my-pc\\anaconda3\\envs\\webscraping\\lib\\site-packages (from fitz) (1.7.1)\n",
      "Requirement already satisfied: nibabel in c:\\users\\my-pc\\anaconda3\\envs\\webscraping\\lib\\site-packages (from fitz) (3.2.1)\n",
      "Requirement already satisfied: configobj in c:\\users\\my-pc\\anaconda3\\envs\\webscraping\\lib\\site-packages (from fitz) (5.0.6)\n",
      "Requirement already satisfied: httplib2 in c:\\users\\my-pc\\anaconda3\\envs\\webscraping\\lib\\site-packages (from fitz) (0.19.1)\n",
      "Requirement already satisfied: six in c:\\users\\my-pc\\anaconda3\\envs\\webscraping\\lib\\site-packages (from configobj->fitz) (1.16.0)\n",
      "Requirement already satisfied: pyparsing<3,>=2.4.2 in c:\\users\\my-pc\\anaconda3\\envs\\webscraping\\lib\\site-packages (from httplib2->fitz) (2.4.7)\n",
      "Requirement already satisfied: packaging>=14.3 in c:\\users\\my-pc\\anaconda3\\envs\\webscraping\\lib\\site-packages (from nibabel->fitz) (21.0)\n",
      "Requirement already satisfied: click>=6.6.0 in c:\\users\\my-pc\\anaconda3\\envs\\webscraping\\lib\\site-packages (from nipype->fitz) (8.0.1)\n",
      "Requirement already satisfied: rdflib>=5.0.0 in c:\\users\\my-pc\\anaconda3\\envs\\webscraping\\lib\\site-packages (from nipype->fitz) (6.0.1)\n",
      "Requirement already satisfied: traits!=5.0,>=4.6 in c:\\users\\my-pc\\anaconda3\\envs\\webscraping\\lib\\site-packages (from nipype->fitz) (6.2.0)\n",
      "Requirement already satisfied: prov>=1.5.2 in c:\\users\\my-pc\\anaconda3\\envs\\webscraping\\lib\\site-packages (from nipype->fitz) (2.0.0)\n",
      "Requirement already satisfied: filelock>=3.0.0 in c:\\users\\my-pc\\anaconda3\\envs\\webscraping\\lib\\site-packages (from nipype->fitz) (3.0.12)\n",
      "Requirement already satisfied: python-dateutil>=2.2 in c:\\users\\my-pc\\anaconda3\\envs\\webscraping\\lib\\site-packages (from nipype->fitz) (2.8.2)\n",
      "Requirement already satisfied: networkx>=2.0 in c:\\users\\my-pc\\anaconda3\\envs\\webscraping\\lib\\site-packages (from nipype->fitz) (2.6.3)\n",
      "Requirement already satisfied: pydot>=1.2.3 in c:\\users\\my-pc\\anaconda3\\envs\\webscraping\\lib\\site-packages (from nipype->fitz) (1.4.2)\n",
      "Requirement already satisfied: simplejson>=3.8.0 in c:\\users\\my-pc\\anaconda3\\envs\\webscraping\\lib\\site-packages (from nipype->fitz) (3.17.5)\n",
      "Requirement already satisfied: etelemetry>=0.2.0 in c:\\users\\my-pc\\anaconda3\\envs\\webscraping\\lib\\site-packages (from nipype->fitz) (0.2.2)\n",
      "Requirement already satisfied: colorama in c:\\users\\my-pc\\anaconda3\\envs\\webscraping\\lib\\site-packages (from click>=6.6.0->nipype->fitz) (0.4.4)\n",
      "Requirement already satisfied: importlib-metadata in c:\\users\\my-pc\\anaconda3\\envs\\webscraping\\lib\\site-packages (from click>=6.6.0->nipype->fitz) (4.8.1)\n",
      "Requirement already satisfied: ci-info>=0.2 in c:\\users\\my-pc\\anaconda3\\envs\\webscraping\\lib\\site-packages (from etelemetry>=0.2.0->nipype->fitz) (0.2.0)\n",
      "Requirement already satisfied: requests in c:\\users\\my-pc\\anaconda3\\envs\\webscraping\\lib\\site-packages (from etelemetry>=0.2.0->nipype->fitz) (2.26.0)\n",
      "Requirement already satisfied: lxml>=3.3.5 in c:\\users\\my-pc\\anaconda3\\envs\\webscraping\\lib\\site-packages (from prov>=1.5.2->nipype->fitz) (4.6.3)\n",
      "Requirement already satisfied: setuptools in c:\\users\\my-pc\\anaconda3\\envs\\webscraping\\lib\\site-packages (from rdflib>=5.0.0->nipype->fitz) (52.0.0.post20210125)\n",
      "Requirement already satisfied: isodate in c:\\users\\my-pc\\anaconda3\\envs\\webscraping\\lib\\site-packages (from rdflib>=5.0.0->nipype->fitz) (0.6.0)\n",
      "Requirement already satisfied: zipp>=0.5 in c:\\users\\my-pc\\anaconda3\\envs\\webscraping\\lib\\site-packages (from importlib-metadata->click>=6.6.0->nipype->fitz) (3.5.0)\n",
      "Requirement already satisfied: typing-extensions>=3.6.4 in c:\\users\\my-pc\\anaconda3\\envs\\webscraping\\lib\\site-packages (from importlib-metadata->click>=6.6.0->nipype->fitz) (3.10.0.2)\n",
      "Requirement already satisfied: pytz>=2017.3 in c:\\users\\my-pc\\anaconda3\\envs\\webscraping\\lib\\site-packages (from pandas->fitz) (2021.1)\n",
      "Requirement already satisfied: future>=0.16 in c:\\users\\my-pc\\anaconda3\\envs\\webscraping\\lib\\site-packages (from pyxnat->fitz) (0.18.2)\n",
      "Requirement already satisfied: pathlib>=1.0 in c:\\users\\my-pc\\anaconda3\\envs\\webscraping\\lib\\site-packages (from pyxnat->fitz) (1.0.1)\n",
      "Requirement already satisfied: certifi>=2017.4.17 in c:\\users\\my-pc\\anaconda3\\envs\\webscraping\\lib\\site-packages (from requests->etelemetry>=0.2.0->nipype->fitz) (2021.5.30)\n",
      "Requirement already satisfied: urllib3<1.27,>=1.21.1 in c:\\users\\my-pc\\anaconda3\\envs\\webscraping\\lib\\site-packages (from requests->etelemetry>=0.2.0->nipype->fitz) (1.26.6)\n",
      "Requirement already satisfied: idna<4,>=2.5 in c:\\users\\my-pc\\anaconda3\\envs\\webscraping\\lib\\site-packages (from requests->etelemetry>=0.2.0->nipype->fitz) (3.2)\n",
      "Requirement already satisfied: charset-normalizer~=2.0.0 in c:\\users\\my-pc\\anaconda3\\envs\\webscraping\\lib\\site-packages (from requests->etelemetry>=0.2.0->nipype->fitz) (2.0.5)\n"
     ]
    }
   ],
   "metadata": {}
  },
  {
   "cell_type": "code",
   "execution_count": 2,
   "source": [
    "# extract images from pdf\r\n",
    "#!pip install fitz and PyMuPDF\r\n",
    "\r\n",
    "import fitz\r\n",
    "\r\n",
    "file =  'sample_2.pdf'\r\n",
    "\r\n",
    "pdf = fitz.open(file)\r\n",
    "image_list = pdf.getPageImageList(0)\r\n",
    "for image in image_list:\r\n",
    "    xref = image[0]\r\n",
    "    pix =  fitz.Pixmap(pdf, xref)\r\n",
    "    if pix.n<5:\r\n",
    "        pix.writePNG(f'{xref}.png')\r\n",
    "    else:\r\n",
    "        pix1 = fitz.open(fitz.csRGB, pix)\r\n",
    "        pix1.writePNG(f'{xref}.png')\r\n",
    "        pix1 = None\r\n",
    "    pix = None\r\n",
    "\r\n",
    "print(len(image_list), 'detected')\r\n",
    "\r\n",
    "\r\n"
   ],
   "outputs": [
    {
     "output_type": "stream",
     "name": "stderr",
     "text": [
      "mupdf: cannot open sample_2.pdf: No such file or directory\n"
     ]
    },
    {
     "output_type": "error",
     "ename": "RuntimeError",
     "evalue": "cannot open sample_2.pdf: No such file or directory",
     "traceback": [
      "\u001b[1;31m---------------------------------------------------------------------------\u001b[0m",
      "\u001b[1;31mRuntimeError\u001b[0m                              Traceback (most recent call last)",
      "\u001b[1;32m~\\AppData\\Local\\Temp/ipykernel_21172/2680896601.py\u001b[0m in \u001b[0;36m<module>\u001b[1;34m\u001b[0m\n\u001b[0;32m      6\u001b[0m \u001b[0mfile\u001b[0m \u001b[1;33m=\u001b[0m  \u001b[1;34m'sample_2.pdf'\u001b[0m\u001b[1;33m\u001b[0m\u001b[1;33m\u001b[0m\u001b[0m\n\u001b[0;32m      7\u001b[0m \u001b[1;33m\u001b[0m\u001b[0m\n\u001b[1;32m----> 8\u001b[1;33m \u001b[0mpdf\u001b[0m \u001b[1;33m=\u001b[0m \u001b[0mfitz\u001b[0m\u001b[1;33m.\u001b[0m\u001b[0mopen\u001b[0m\u001b[1;33m(\u001b[0m\u001b[0mfile\u001b[0m\u001b[1;33m)\u001b[0m\u001b[1;33m\u001b[0m\u001b[1;33m\u001b[0m\u001b[0m\n\u001b[0m\u001b[0;32m      9\u001b[0m \u001b[0mimage_list\u001b[0m \u001b[1;33m=\u001b[0m \u001b[0mpdf\u001b[0m\u001b[1;33m.\u001b[0m\u001b[0mgetPageImageList\u001b[0m\u001b[1;33m(\u001b[0m\u001b[1;36m0\u001b[0m\u001b[1;33m)\u001b[0m\u001b[1;33m\u001b[0m\u001b[1;33m\u001b[0m\u001b[0m\n\u001b[0;32m     10\u001b[0m \u001b[1;32mfor\u001b[0m \u001b[0mimage\u001b[0m \u001b[1;32min\u001b[0m \u001b[0mimage_list\u001b[0m\u001b[1;33m:\u001b[0m\u001b[1;33m\u001b[0m\u001b[1;33m\u001b[0m\u001b[0m\n",
      "\u001b[1;32m~\\anaconda3\\envs\\webscraping\\lib\\site-packages\\fitz\\fitz.py\u001b[0m in \u001b[0;36m__init__\u001b[1;34m(self, filename, stream, filetype, rect, width, height, fontsize)\u001b[0m\n\u001b[0;32m   3668\u001b[0m             \u001b[0mself\u001b[0m\u001b[1;33m,\u001b[0m\u001b[1;33m\u001b[0m\u001b[1;33m\u001b[0m\u001b[0m\n\u001b[0;32m   3669\u001b[0m             _fitz.new_Document(\n\u001b[1;32m-> 3670\u001b[1;33m                 \u001b[0mfilename\u001b[0m\u001b[1;33m,\u001b[0m \u001b[0mstream\u001b[0m\u001b[1;33m,\u001b[0m \u001b[0mfiletype\u001b[0m\u001b[1;33m,\u001b[0m \u001b[0mrect\u001b[0m\u001b[1;33m,\u001b[0m \u001b[0mwidth\u001b[0m\u001b[1;33m,\u001b[0m \u001b[0mheight\u001b[0m\u001b[1;33m,\u001b[0m \u001b[0mfontsize\u001b[0m\u001b[1;33m\u001b[0m\u001b[1;33m\u001b[0m\u001b[0m\n\u001b[0m\u001b[0;32m   3671\u001b[0m             ),\n\u001b[0;32m   3672\u001b[0m         )\n",
      "\u001b[1;31mRuntimeError\u001b[0m: cannot open sample_2.pdf: No such file or directory"
     ]
    }
   ],
   "metadata": {}
  }
 ],
 "metadata": {
  "orig_nbformat": 4,
  "language_info": {
   "name": "python",
   "version": "3.7.11",
   "mimetype": "text/x-python",
   "codemirror_mode": {
    "name": "ipython",
    "version": 3
   },
   "pygments_lexer": "ipython3",
   "nbconvert_exporter": "python",
   "file_extension": ".py"
  },
  "kernelspec": {
   "name": "python3",
   "display_name": "Python 3.7.11 64-bit ('webscraping': conda)"
  },
  "interpreter": {
   "hash": "7cccc95c04ff0bfb4d59500f2dcd505d1d7d3049ccad7e9f8b3a694b435cb40d"
  }
 },
 "nbformat": 4,
 "nbformat_minor": 2
}